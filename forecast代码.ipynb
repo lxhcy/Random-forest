{
 "cells": [
  {
   "cell_type": "code",
   "execution_count": 1,
   "id": "55cb3554-e0fd-482f-9ca4-706c44a65e29",
   "metadata": {},
   "outputs": [
    {
     "name": "stderr",
     "output_type": "stream",
     "text": [
      "E:\\anaconda\\lib\\site-packages\\scipy\\__init__.py:146: UserWarning: A NumPy version >=1.16.5 and <1.23.0 is required for this version of SciPy (detected version 1.26.1\n",
      "  warnings.warn(f\"A NumPy version >={np_minversion} and <{np_maxversion}\"\n"
     ]
    }
   ],
   "source": [
    "import pickle\n",
    "import pandas as pd\n",
    "import numpy as np\n",
    "import csv\n",
    "from sklearn import preprocessing"
   ]
  },
  {
   "cell_type": "code",
   "execution_count": 2,
   "id": "771f125c-fefc-49cd-aee3-2e2cbd879448",
   "metadata": {},
   "outputs": [
    {
     "name": "stderr",
     "output_type": "stream",
     "text": [
      "C:\\Users\\yiru\\AppData\\Roaming\\Python\\Python39\\site-packages\\sklearn\\base.py:329: UserWarning: Trying to unpickle estimator DecisionTreeRegressor from version 1.2.2 when using version 1.1.3. This might lead to breaking code or invalid results. Use at your own risk. For more info please refer to:\n",
      "https://scikit-learn.org/stable/model_persistence.html#security-maintainability-limitations\n",
      "  warnings.warn(\n",
      "C:\\Users\\yiru\\AppData\\Roaming\\Python\\Python39\\site-packages\\sklearn\\base.py:329: UserWarning: Trying to unpickle estimator RandomForestRegressor from version 1.2.2 when using version 1.1.3. This might lead to breaking code or invalid results. Use at your own risk. For more info please refer to:\n",
      "https://scikit-learn.org/stable/model_persistence.html#security-maintainability-limitations\n",
      "  warnings.warn(\n"
     ]
    }
   ],
   "source": [
    "loaded_model = pickle.load(open(\"随机森林模型Continuous_RF.dat\",\"rb\"))"
   ]
  },
  {
   "cell_type": "code",
   "execution_count": 3,
   "id": "120d8bcc-2b72-4629-86ab-368c0356e1ff",
   "metadata": {},
   "outputs": [],
   "source": [
    "dataset= r'预测集.csv'\n",
    "data=pd.DataFrame(pd.read_csv(dataset))"
   ]
  },
  {
   "cell_type": "code",
   "execution_count": 4,
   "id": "9d8859ef-03b9-49b0-996a-8adb17e081c6",
   "metadata": {},
   "outputs": [],
   "source": [
    "X = data.values[:, :-1]\n",
    "for i in range(X.shape[1]):\n",
    "    X[:, [i]] = preprocessing.MinMaxScaler().fit_transform(X[:, [i]])"
   ]
  },
  {
   "cell_type": "code",
   "execution_count": 6,
   "id": "f947001e-7d45-4212-b1a9-12e83cb1f392",
   "metadata": {},
   "outputs": [],
   "source": [
    "target=loaded_model.predict(X)"
   ]
  },
  {
   "cell_type": "code",
   "execution_count": 6,
   "id": "367c393a-5360-4f8c-a3a5-447922a005ad",
   "metadata": {},
   "outputs": [
    {
     "name": "stdout",
     "output_type": "stream",
     "text": [
      "[1. 1. 1. ... 1. 1. 1.]\n"
     ]
    }
   ],
   "source": [
    "print(loaded_model.predict(X))"
   ]
  },
  {
   "cell_type": "code",
   "execution_count": 7,
   "id": "e4b20bd3-ae79-4bfc-9c6c-6e3d497d52a8",
   "metadata": {},
   "outputs": [],
   "source": [
    "with open('target.csv', 'w', newline='') as file:\n",
    "    writer = csv.writer(file)\n",
    "    \n",
    "    # Write each element in the array as a new row in the CSV file\n",
    "    for element in target:\n",
    "        writer.writerow([element])"
   ]
  },
  {
   "cell_type": "code",
   "execution_count": 12,
   "id": "64d8a339-8dc0-43a7-85fe-a2aee881f9b4",
   "metadata": {},
   "outputs": [
    {
     "name": "stdout",
     "output_type": "stream",
     "text": [
      "含有1的行数: 192296\n"
     ]
    }
   ],
   "source": [
    "# 读取文件\n",
    "with open('target.csv', 'r') as file:\n",
    "    lines = file.readlines()\n",
    "\n",
    "count_1 = 0\n",
    "# 统计含有1的行数\n",
    "for line in lines:\n",
    "    if '1' in line:\n",
    "        count_1 += 1\n",
    "\n",
    "print('含有1的行数:', count_1)"
   ]
  },
  {
   "cell_type": "code",
   "execution_count": null,
   "id": "0f5e8da8-0707-46a9-a804-02f982bb3c02",
   "metadata": {},
   "outputs": [],
   "source": []
  }
 ],
 "metadata": {
  "kernelspec": {
   "display_name": "NJmatML",
   "language": "python",
   "name": "njmatml"
  },
  "language_info": {
   "codemirror_mode": {
    "name": "ipython",
    "version": 3
   },
   "file_extension": ".py",
   "mimetype": "text/x-python",
   "name": "python",
   "nbconvert_exporter": "python",
   "pygments_lexer": "ipython3",
   "version": "3.9.12"
  }
 },
 "nbformat": 4,
 "nbformat_minor": 5
}
